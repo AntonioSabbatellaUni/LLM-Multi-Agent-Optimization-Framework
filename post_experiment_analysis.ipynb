{
 "cells": [
  {
   "cell_type": "markdown",
   "id": "69a377c3",
   "metadata": {},
   "source": [
    "# 🚀 Post-Experiment Analysis: Multi-Agent LLM Optimization\n",
    "\n",
    "This notebook provides comprehensive analysis of multi-agent LLM optimization experiments, including evolution tracking and Pareto front visualization.\n",
    "\n",
    "## 📊 **Analysis Features:**\n",
    "- **📁 Automatic Detection**: Finds the latest experiment run automatically\n",
    "- **📈 Evolution Tracking**: Plots best performance/cost over iterations\n",
    "- **🎯 3D Pareto Analysis**: Interactive 3D evolution of Pareto fronts\n",
    "- **💾 Auto-Save**: Saves all visualizations to experiment output folder\n",
    "\n",
    "## ⚙️ **Setup Requirements:**\n",
    "- Run this notebook from the LLM Multi-Agent Optimization Framework directory\n",
    "- Ensure experiment outputs exist in the `outputs/` folder\n",
    "- Required libraries: matplotlib, plotly, pandas, numpy\n",
    "\n",
    "---"
   ]
  },
  {
   "cell_type": "code",
   "execution_count": 26,
   "id": "c688c282",
   "metadata": {},
   "outputs": [
    {
     "name": "stdout",
     "output_type": "stream",
     "text": [
      "Requirement already satisfied: plotly in /system/conda/miniconda3/envs/cloudspace/lib/python3.10/site-packages (6.2.0)\n",
      "Requirement already satisfied: pandas in /system/conda/miniconda3/envs/cloudspace/lib/python3.10/site-packages (2.3.1)\n",
      "Requirement already satisfied: matplotlib in /system/conda/miniconda3/envs/cloudspace/lib/python3.10/site-packages (3.10.3)\n",
      "Requirement already satisfied: numpy in /system/conda/miniconda3/envs/cloudspace/lib/python3.10/site-packages (1.26.4)\n",
      "Requirement already satisfied: seaborn in /system/conda/miniconda3/envs/cloudspace/lib/python3.10/site-packages (0.13.2)\n",
      "Requirement already satisfied: narwhals>=1.15.1 in /system/conda/miniconda3/envs/cloudspace/lib/python3.10/site-packages (from plotly) (2.0.1)\n",
      "Requirement already satisfied: packaging in /system/conda/miniconda3/envs/cloudspace/lib/python3.10/site-packages (from plotly) (24.2)\n",
      "Requirement already satisfied: python-dateutil>=2.8.2 in /system/conda/miniconda3/envs/cloudspace/lib/python3.10/site-packages (from pandas) (2.9.0.post0)\n",
      "Requirement already satisfied: pytz>=2020.1 in /system/conda/miniconda3/envs/cloudspace/lib/python3.10/site-packages (from pandas) (2025.2)\n",
      "Requirement already satisfied: tzdata>=2022.7 in /system/conda/miniconda3/envs/cloudspace/lib/python3.10/site-packages (from pandas) (2025.2)\n",
      "Requirement already satisfied: contourpy>=1.0.1 in /system/conda/miniconda3/envs/cloudspace/lib/python3.10/site-packages (from matplotlib) (1.3.2)\n",
      "Requirement already satisfied: cycler>=0.10 in /system/conda/miniconda3/envs/cloudspace/lib/python3.10/site-packages (from matplotlib) (0.12.1)\n",
      "Requirement already satisfied: fonttools>=4.22.0 in /system/conda/miniconda3/envs/cloudspace/lib/python3.10/site-packages (from matplotlib) (4.58.1)\n",
      "Requirement already satisfied: kiwisolver>=1.3.1 in /system/conda/miniconda3/envs/cloudspace/lib/python3.10/site-packages (from matplotlib) (1.4.8)\n",
      "Requirement already satisfied: pillow>=8 in /system/conda/miniconda3/envs/cloudspace/lib/python3.10/site-packages (from matplotlib) (11.2.1)\n",
      "Requirement already satisfied: pyparsing>=2.3.1 in /system/conda/miniconda3/envs/cloudspace/lib/python3.10/site-packages (from matplotlib) (3.2.3)\n",
      "Requirement already satisfied: six>=1.5 in /system/conda/miniconda3/envs/cloudspace/lib/python3.10/site-packages (from python-dateutil>=2.8.2->pandas) (1.17.0)\n"
     ]
    }
   ],
   "source": [
    "# 📦 Install Required Packages\n",
    "!pip install plotly pandas matplotlib numpy seaborn"
   ]
  },
  {
   "cell_type": "code",
   "execution_count": 27,
   "id": "86ebb3b7",
   "metadata": {},
   "outputs": [
    {
     "name": "stdout",
     "output_type": "stream",
     "text": [
      "📦 All required libraries imported successfully!\n",
      "📍 Current working directory: /teamspace/studios/this_studio/LLM Multi-Agent Optimization Framework\n"
     ]
    }
   ],
   "source": [
    "# Import Required Libraries\n",
    "import os\n",
    "import json\n",
    "import glob\n",
    "import numpy as np\n",
    "import pandas as pd\n",
    "import matplotlib.pyplot as plt\n",
    "import plotly.graph_objects as go\n",
    "import plotly.express as px\n",
    "from plotly.subplots import make_subplots\n",
    "from datetime import datetime\n",
    "from pathlib import Path\n",
    "import warnings\n",
    "warnings.filterwarnings('ignore')\n",
    "\n",
    "# Set style for better plots\n",
    "plt.style.use('seaborn-v0_8')\n",
    "plt.rcParams['figure.figsize'] = (12, 8)\n",
    "plt.rcParams['font.size'] = 10\n",
    "\n",
    "print(\"📦 All required libraries imported successfully!\")\n",
    "print(\"📍 Current working directory:\", os.getcwd())"
   ]
  },
  {
   "cell_type": "code",
   "execution_count": 28,
   "id": "87523da5",
   "metadata": {},
   "outputs": [
    {
     "name": "stdout",
     "output_type": "stream",
     "text": [
      "🔍 Checking 71 experiment folders for recent checkpoints...\n",
      "📁 Latest experiment: jul_29_15_21_botorch_multi_objective_llm_gaia_smolagents\n",
      "📅 Most recent checkpoint: 2025-07-29 16:51:47.127598\n",
      "📋 Found 4 checkpoint files\n",
      "\n",
      "✅ Using experiment folder: /teamspace/studios/this_studio/LLM Multi-Agent Optimization Framework/outputs/jul_29_15_21_botorch_multi_objective_llm_gaia_smolagents\n",
      "📋 Found 4 checkpoint files\n"
     ]
    }
   ],
   "source": [
    "# 📁 Find Latest Experiment Run\n",
    "def find_latest_experiment():\n",
    "    \"\"\"Find the most recent experiment run based on the latest checkpoint file timestamps.\"\"\"\n",
    "    # Use absolute path to ensure we find the correct outputs directory\n",
    "    base_dir = \"/teamspace/studios/this_studio/LLM Multi-Agent Optimization Framework\"\n",
    "    outputs_dir = os.path.join(base_dir, \"outputs\")\n",
    "    \n",
    "    if not os.path.exists(outputs_dir):\n",
    "        print(f\"❌ Outputs directory '{outputs_dir}' not found!\")\n",
    "        return None\n",
    "    \n",
    "    # Get all experiment folders\n",
    "    experiment_folders = [\n",
    "        d for d in os.listdir(outputs_dir) \n",
    "        if os.path.isdir(os.path.join(outputs_dir, d)) and d != \".gitkeep\"\n",
    "    ]\n",
    "    \n",
    "    if not experiment_folders:\n",
    "        print(f\"❌ No experiment folders found in '{outputs_dir}'!\")\n",
    "        return None\n",
    "    \n",
    "    # Find the experiment with the most recent checkpoint file\n",
    "    latest_experiment = None\n",
    "    latest_checkpoint_time = 0\n",
    "    \n",
    "    print(f\"🔍 Checking {len(experiment_folders)} experiment folders for recent checkpoints...\")\n",
    "    \n",
    "    for folder in experiment_folders:\n",
    "        folder_path = os.path.join(outputs_dir, folder)\n",
    "        \n",
    "        # Find checkpoint files in this folder\n",
    "        checkpoint_files = glob.glob(os.path.join(folder_path, \"checkpoint_iter_*.json\"))\n",
    "        \n",
    "        if checkpoint_files:\n",
    "            # Get the most recent checkpoint file in this folder\n",
    "            most_recent_checkpoint = max(checkpoint_files, key=os.path.getmtime)\n",
    "            checkpoint_time = os.path.getmtime(most_recent_checkpoint)\n",
    "            \n",
    "            if checkpoint_time > latest_checkpoint_time:\n",
    "                latest_checkpoint_time = checkpoint_time\n",
    "                latest_experiment = folder_path\n",
    "    \n",
    "    if latest_experiment:\n",
    "        experiment_name = os.path.basename(latest_experiment)\n",
    "        latest_checkpoint_date = datetime.fromtimestamp(latest_checkpoint_time)\n",
    "        \n",
    "        print(f\"📁 Latest experiment: {experiment_name}\")\n",
    "        print(f\"📅 Most recent checkpoint: {latest_checkpoint_date}\")\n",
    "        \n",
    "        # Check for checkpoint files\n",
    "        checkpoint_files = glob.glob(os.path.join(latest_experiment, \"checkpoint_iter_*.json\"))\n",
    "        print(f\"📋 Found {len(checkpoint_files)} checkpoint files\")\n",
    "        \n",
    "        return latest_experiment\n",
    "    else:\n",
    "        print(f\"❌ No experiments with checkpoint files found in '{outputs_dir}'!\")\n",
    "        return None\n",
    "\n",
    "# Find the latest experiment\n",
    "latest_experiment = find_latest_experiment()\n",
    "\n",
    "if latest_experiment:\n",
    "    print(f\"\\n✅ Using experiment folder: {latest_experiment}\")\n",
    "    \n",
    "    # Check for checkpoint files\n",
    "    checkpoint_files = glob.glob(os.path.join(latest_experiment, \"checkpoint_iter_*.json\"))\n",
    "    print(f\"📋 Found {len(checkpoint_files)} checkpoint files\")\n",
    "else:\n",
    "    print(\"❌ No experiment found. Please run an optimization first.\")"
   ]
  },
  {
   "cell_type": "code",
   "execution_count": 29,
   "id": "e4decd54",
   "metadata": {},
   "outputs": [
    {
     "name": "stdout",
     "output_type": "stream",
     "text": [
      "📋 Loading 4 checkpoint files...\n",
      "⚠️  Warning: Found 1 observations with zero cost in iteration 0\n",
      "    Filtering out zero-cost observations for meaningful analysis...\n",
      "    Kept 1 out of 2 observations after filtering\n",
      "⚠️  Warning: Found 1 observations with zero cost in iteration 1\n",
      "    Filtering out zero-cost observations for meaningful analysis...\n",
      "    Kept 2 out of 3 observations after filtering\n",
      "⚠️  Warning: Found 1 observations with zero cost in iteration 2\n",
      "    Filtering out zero-cost observations for meaningful analysis...\n",
      "    Kept 3 out of 4 observations after filtering\n",
      "⚠️  Warning: Found 1 observations with zero cost in iteration 3\n",
      "    Filtering out zero-cost observations for meaningful analysis...\n",
      "    Kept 4 out of 5 observations after filtering\n",
      "✅ Successfully loaded 4 checkpoints\n",
      "\n",
      "📈 Experiment Summary:\n",
      "  • Total iterations: 4\n",
      "  • Total evaluations (after filtering): 4\n",
      "  • Best performance achieved: 1.000\n",
      "  • Best cost achieved: 0.112\n",
      "\n",
      "🚨 Filtering Summary:\n",
      "  • Original total evaluations: 14\n",
      "  • Zero-cost observations filtered: 4\n",
      "  • Remaining evaluations: 10\n",
      "  • Filtering rate: 28.6%\n",
      "\n",
      "📊 Iteration Progress:\n",
      "  Iter  0:   1 evals (filtered 1), Best Perf: 0.667, Best Cost: 0.204\n",
      "  Iter  1:   2 evals (filtered 1), Best Perf: 0.667, Best Cost: 0.204\n",
      "  Iter  2:   3 evals (filtered 1), Best Perf: 1.000, Best Cost: 0.112\n",
      "  Iter  3:   4 evals (filtered 1), Best Perf: 1.000, Best Cost: 0.112\n"
     ]
    }
   ],
   "source": [
    "# 📊 Load Checkpoint Data\n",
    "def load_checkpoint_data(experiment_folder):\n",
    "    \"\"\"Load all checkpoint data from experiment iterations.\"\"\"\n",
    "    if not experiment_folder:\n",
    "        return None\n",
    "    \n",
    "    checkpoint_files = glob.glob(os.path.join(experiment_folder, \"checkpoint_iter_*.json\"))\n",
    "    checkpoint_files.sort()  # Sort by filename for correct iteration order\n",
    "    \n",
    "    if not checkpoint_files:\n",
    "        print(f\"❌ No checkpoint files found in {experiment_folder}\")\n",
    "        return None\n",
    "    \n",
    "    print(f\"📋 Loading {len(checkpoint_files)} checkpoint files...\")\n",
    "    \n",
    "    checkpoints = []\n",
    "    for i, checkpoint_file in enumerate(checkpoint_files):\n",
    "        try:\n",
    "            with open(checkpoint_file, 'r') as f:\n",
    "                data = json.load(f)\n",
    "            \n",
    "            # Extract key information - handle different formats\n",
    "            iteration = data.get('iteration', i)\n",
    "            \n",
    "            # Try different field names for Y data\n",
    "            if 'Y_train' in data:\n",
    "                Y_train = np.array(data['Y_train'])\n",
    "            elif 'train_y' in data:\n",
    "                Y_train = np.array(data['train_y'])\n",
    "            elif 'y' in data:\n",
    "                Y_train = np.array(data['y'])\n",
    "            else:\n",
    "                print(f\"⚠️  No Y data found in {checkpoint_file}\")\n",
    "                continue\n",
    "            \n",
    "            # Try different field names for X data\n",
    "            if 'X_train' in data:\n",
    "                X_train = np.array(data['X_train'])\n",
    "            elif 'train_x' in data:\n",
    "                X_train = np.array(data['train_x'])\n",
    "            elif 'x' in data:\n",
    "                X_train = np.array(data['x'])\n",
    "            else:\n",
    "                print(f\"⚠️  No X data found in {checkpoint_file}\")\n",
    "                X_train = np.zeros((len(Y_train), 1))  # Dummy X data\n",
    "            \n",
    "            # Convert cost back from negative (BoTorch uses negative for maximization)\n",
    "            performance = Y_train[:, 0]  # First objective: performance\n",
    "            cost = -Y_train[:, 1]        # Second objective: cost (convert from negative)\n",
    "            \n",
    "            # Filter out zero-cost observations\n",
    "            non_zero_cost_mask = cost > 0\n",
    "            zero_cost_count = np.sum(cost == 0)\n",
    "            \n",
    "            if zero_cost_count > 0:\n",
    "                print(f\"⚠️  Warning: Found {zero_cost_count} observations with zero cost in iteration {iteration}\")\n",
    "                print(f\"    Filtering out zero-cost observations for meaningful analysis...\")\n",
    "                \n",
    "                if np.sum(non_zero_cost_mask) == 0:\n",
    "                    print(f\"⚠️  All observations have zero cost in iteration {iteration} - skipping this iteration\")\n",
    "                    continue\n",
    "                \n",
    "                # Filter data to keep only non-zero cost observations\n",
    "                performance = performance[non_zero_cost_mask]\n",
    "                cost = cost[non_zero_cost_mask]\n",
    "                X_train = X_train[non_zero_cost_mask] if len(X_train) > 0 else X_train\n",
    "                Y_train_filtered = Y_train[non_zero_cost_mask]\n",
    "                \n",
    "                print(f\"    Kept {len(performance)} out of {len(Y_train)} observations after filtering\")\n",
    "            else:\n",
    "                Y_train_filtered = Y_train\n",
    "            \n",
    "            checkpoint_info = {\n",
    "                'iteration': iteration,\n",
    "                'timestamp': data.get('timestamp', ''),\n",
    "                'performance': performance,\n",
    "                'cost': cost,\n",
    "                'n_evaluations': len(performance),  # Use filtered length\n",
    "                'best_performance': performance.max(),\n",
    "                'best_cost': cost.min(),\n",
    "                'X_train': X_train,\n",
    "                'Y_train': Y_train_filtered,\n",
    "                'original_n_evaluations': len(Y_train),  # Keep track of original count\n",
    "                'zero_cost_filtered': zero_cost_count\n",
    "            }\n",
    "            \n",
    "            checkpoints.append(checkpoint_info)\n",
    "            \n",
    "        except Exception as e:\n",
    "            print(f\"⚠️  Failed to load {checkpoint_file}: {e}\")\n",
    "            continue\n",
    "    \n",
    "    print(f\"✅ Successfully loaded {len(checkpoints)} checkpoints\")\n",
    "    return checkpoints\n",
    "\n",
    "# Load all checkpoint data\n",
    "checkpoints = load_checkpoint_data(latest_experiment)\n",
    "\n",
    "if checkpoints:\n",
    "    print(f\"\\n📈 Experiment Summary:\")\n",
    "    print(f\"  • Total iterations: {len(checkpoints)}\")\n",
    "    print(f\"  • Total evaluations (after filtering): {checkpoints[-1]['n_evaluations']}\")\n",
    "    print(f\"  • Best performance achieved: {max(cp['best_performance'] for cp in checkpoints):.3f}\")\n",
    "    print(f\"  • Best cost achieved: {min(cp['best_cost'] for cp in checkpoints):.3f}\")\n",
    "    \n",
    "    # Show filtering statistics\n",
    "    total_original = sum(cp['original_n_evaluations'] for cp in checkpoints)\n",
    "    total_filtered = sum(cp['n_evaluations'] for cp in checkpoints)\n",
    "    total_zero_cost = sum(cp['zero_cost_filtered'] for cp in checkpoints)\n",
    "    \n",
    "    if total_zero_cost > 0:\n",
    "        print(f\"\\n🚨 Filtering Summary:\")\n",
    "        print(f\"  • Original total evaluations: {total_original}\")\n",
    "        print(f\"  • Zero-cost observations filtered: {total_zero_cost}\")\n",
    "        print(f\"  • Remaining evaluations: {total_filtered}\")\n",
    "        print(f\"  • Filtering rate: {total_zero_cost/total_original*100:.1f}%\")\n",
    "    \n",
    "    # Display progression\n",
    "    print(f\"\\n📊 Iteration Progress:\")\n",
    "    for i, cp in enumerate(checkpoints[:5]):  # Show first 5\n",
    "        filtered_note = f\" (filtered {cp['zero_cost_filtered']})\" if cp['zero_cost_filtered'] > 0 else \"\"\n",
    "        print(f\"  Iter {cp['iteration']:2d}: {cp['n_evaluations']:3d} evals{filtered_note}, \"\n",
    "              f\"Best Perf: {cp['best_performance']:.3f}, Best Cost: {cp['best_cost']:.3f}\")\n",
    "    if len(checkpoints) > 5:\n",
    "        print(f\"  ... ({len(checkpoints)-5} more iterations)\")\n",
    "else:\n",
    "    print(\"❌ No checkpoint data loaded.\")"
   ]
  },
  {
   "cell_type": "code",
   "execution_count": 30,
   "id": "fb96cefe",
   "metadata": {},
   "outputs": [
    {
     "name": "stdout",
     "output_type": "stream",
     "text": [
      "📈 Evolution Data Summary:\n",
      "  • Iterations tracked: 4\n",
      "  • Initial best performance: 0.667\n",
      "  • Final best performance: 1.000\n",
      "  • Performance improvement: 0.333\n",
      "  • Initial best cost: 0.204\n",
      "  • Final best cost: 0.112\n",
      "  • Cost improvement: 0.092\n",
      "\n",
      "📊 Evolution DataFrame shape: (4, 6)\n",
      "   iterations  best_performance_cumulative  best_cost_cumulative  \\\n",
      "0           0                     0.666667              0.204006   \n",
      "1           1                     0.666667              0.204006   \n",
      "2           2                     1.000000              0.111717   \n",
      "3           3                     1.000000              0.111717   \n",
      "\n",
      "   best_performance_per_iter  best_cost_per_iter  n_evaluations  \n",
      "0                   0.666667            0.204006              1  \n",
      "1                   0.666667            0.204006              2  \n",
      "2                   1.000000            0.111717              3  \n",
      "3                   1.000000            0.111717              4  \n"
     ]
    }
   ],
   "source": [
    "# 📈 Extract Best Performance and Cost Per Iteration\n",
    "def extract_evolution_data(checkpoints):\n",
    "    \"\"\"Extract best performance and cost evolution over iterations.\"\"\"\n",
    "    if not checkpoints:\n",
    "        return None\n",
    "    \n",
    "    evolution_data = {\n",
    "        'iterations': [],\n",
    "        'best_performance_cumulative': [],\n",
    "        'best_cost_cumulative': [],\n",
    "        'best_performance_per_iter': [],\n",
    "        'best_cost_per_iter': [],\n",
    "        'n_evaluations': []\n",
    "    }\n",
    "    \n",
    "    global_best_performance = -np.inf\n",
    "    global_best_cost = np.inf\n",
    "    \n",
    "    for cp in checkpoints:\n",
    "        iteration = cp['iteration']\n",
    "        curr_best_perf = cp['best_performance']\n",
    "        curr_best_cost = cp['best_cost']\n",
    "        \n",
    "        # Update global bests (cumulative)\n",
    "        global_best_performance = max(global_best_performance, curr_best_perf)\n",
    "        global_best_cost = min(global_best_cost, curr_best_cost)\n",
    "        \n",
    "        # Store data\n",
    "        evolution_data['iterations'].append(iteration)\n",
    "        evolution_data['best_performance_cumulative'].append(global_best_performance)\n",
    "        evolution_data['best_cost_cumulative'].append(global_best_cost)\n",
    "        evolution_data['best_performance_per_iter'].append(curr_best_perf)\n",
    "        evolution_data['best_cost_per_iter'].append(curr_best_cost)\n",
    "        evolution_data['n_evaluations'].append(cp['n_evaluations'])\n",
    "    \n",
    "    return evolution_data\n",
    "\n",
    "# Extract evolution data\n",
    "evolution_data = extract_evolution_data(checkpoints)\n",
    "\n",
    "if evolution_data:\n",
    "    print(\"📈 Evolution Data Summary:\")\n",
    "    print(f\"  • Iterations tracked: {len(evolution_data['iterations'])}\")\n",
    "    print(f\"  • Initial best performance: {evolution_data['best_performance_cumulative'][0]:.3f}\")\n",
    "    print(f\"  • Final best performance: {evolution_data['best_performance_cumulative'][-1]:.3f}\")\n",
    "    print(f\"  • Performance improvement: {evolution_data['best_performance_cumulative'][-1] - evolution_data['best_performance_cumulative'][0]:.3f}\")\n",
    "    print(f\"  • Initial best cost: {evolution_data['best_cost_cumulative'][0]:.3f}\")\n",
    "    print(f\"  • Final best cost: {evolution_data['best_cost_cumulative'][-1]:.3f}\")\n",
    "    print(f\"  • Cost improvement: {evolution_data['best_cost_cumulative'][0] - evolution_data['best_cost_cumulative'][-1]:.3f}\")\n",
    "    \n",
    "    # Create DataFrame for easier manipulation\n",
    "    evolution_df = pd.DataFrame(evolution_data)\n",
    "    print(f\"\\n📊 Evolution DataFrame shape: {evolution_df.shape}\")\n",
    "    print(evolution_df.head())\n",
    "else:\n",
    "    print(\"❌ No evolution data extracted.\")"
   ]
  },
  {
   "cell_type": "code",
   "execution_count": 31,
   "id": "352986f2",
   "metadata": {},
   "outputs": [
    {
     "name": "stdout",
     "output_type": "stream",
     "text": [
      "📊 Creating evolution plots...\n"
     ]
    },
    {
     "data": {
      "image/png": "[encoded data removed]",
      "text/plain": [
       "<Figure size 1400x1000 with 2 Axes>"
      ]
     },
     "metadata": {},
     "output_type": "display_data"
    },
    {
     "name": "stdout",
     "output_type": "stream",
     "text": [
      "\n",
      "📈 Performance Statistics:\n",
      "  • Performance improvement: 0.333\n",
      "  • Cost improvement: 0.092\n",
      "  • Final performance: 1.000\n",
      "  • Final cost: 0.112\n"
     ]
    }
   ],
   "source": [
    "# 📊 Plot Single Objective Evolution\n",
    "def plot_evolution(evolution_data, save_path=None):\n",
    "    \"\"\"Plot the evolution of best performance and cost over iterations.\"\"\"\n",
    "    if not evolution_data:\n",
    "        print(\"❌ No evolution data to plot.\")\n",
    "        return None\n",
    "    \n",
    "    fig, (ax1, ax2) = plt.subplots(2, 1, figsize=(14, 10))\n",
    "    \n",
    "    iterations = evolution_data['iterations']\n",
    "    \n",
    "    # Plot 1: Performance Evolution\n",
    "    ax1.plot(iterations, evolution_data['best_performance_cumulative'], \n",
    "             'o-', color='#2E8B57', linewidth=2, markersize=6, \n",
    "             label='Best Performance (Cumulative)', alpha=0.8)\n",
    "    ax1.plot(iterations, evolution_data['best_performance_per_iter'], \n",
    "             's--', color='#90EE90', linewidth=1.5, markersize=4, \n",
    "             label='Best Performance (Per Iteration)', alpha=0.7)\n",
    "    \n",
    "    ax1.set_xlabel('Iteration')\n",
    "    ax1.set_ylabel('Performance Score')\n",
    "    ax1.set_title('🏆 Performance Evolution Over Iterations', fontsize=14, fontweight='bold')\n",
    "    ax1.legend()\n",
    "    ax1.grid(True, alpha=0.3)\n",
    "    ax1.set_ylim(bottom=0)\n",
    "    \n",
    "    # Plot 2: Cost Evolution  \n",
    "    ax2.plot(iterations, evolution_data['best_cost_cumulative'], \n",
    "             'o-', color='#DC143C', linewidth=2, markersize=6, \n",
    "             label='Best Cost (Cumulative)', alpha=0.8)\n",
    "    ax2.plot(iterations, evolution_data['best_cost_per_iter'], \n",
    "             's--', color='#FFB6C1', linewidth=1.5, markersize=4, \n",
    "             label='Best Cost (Per Iteration)', alpha=0.7)\n",
    "    \n",
    "    ax2.set_xlabel('Iteration')\n",
    "    ax2.set_ylabel('Cost')\n",
    "    ax2.set_title('💰 Cost Evolution Over Iterations', fontsize=14, fontweight='bold')\n",
    "    ax2.legend()\n",
    "    ax2.grid(True, alpha=0.3)\n",
    "    ax2.set_ylim(bottom=0)\n",
    "    \n",
    "    plt.tight_layout()\n",
    "    \n",
    "    if save_path:\n",
    "        plt.savefig(save_path, dpi=300, bbox_inches='tight')\n",
    "        print(f\"💾 Evolution plot saved to: {save_path}\")\n",
    "    \n",
    "    plt.show()\n",
    "    return fig\n",
    "\n",
    "# Create the evolution plot\n",
    "if evolution_data:\n",
    "    print(\"📊 Creating evolution plots...\")\n",
    "    evolution_fig = plot_evolution(evolution_data)\n",
    "    \n",
    "    # Show some statistics\n",
    "    print(f\"\\n📈 Performance Statistics:\")\n",
    "    perf_improvement = evolution_data['best_performance_cumulative'][-1] - evolution_data['best_performance_cumulative'][0]\n",
    "    cost_improvement = evolution_data['best_cost_cumulative'][0] - evolution_data['best_cost_cumulative'][-1]\n",
    "    \n",
    "    print(f\"  • Performance improvement: {perf_improvement:.3f}\")\n",
    "    print(f\"  • Cost improvement: {cost_improvement:.3f}\")\n",
    "    print(f\"  • Final performance: {evolution_data['best_performance_cumulative'][-1]:.3f}\")\n",
    "    print(f\"  • Final cost: {evolution_data['best_cost_cumulative'][-1]:.3f}\")\n",
    "else:\n",
    "    print(\"❌ Cannot create evolution plots - no data available.\")"
   ]
  },
  {
   "cell_type": "code",
   "execution_count": 32,
   "id": "0beac1de",
   "metadata": {},
   "outputs": [
    {
     "name": "stdout",
     "output_type": "stream",
     "text": [
      "🎯 Creating 3D Pareto front evolution plot...\n",
      "📊 Processing 4 iterations for 3D plot...\n"
     ]
    },
    {
     "data": {
      "application/vnd.plotly.v1+json": {
       "config": {
        "plotlyServerURL": "https://plot.ly"
       },
       "data": [
        {
         "hovertemplate": "<b>Iteration 0</b><br>Cost: %{x:.3f}<br>Performance: %{y:.3f}<br><extra></extra>",
         "line": {
          "color": "#440154",
          "width": 3
         },
         "marker": {
          "color": "#440154",
          "line": {
           "color": "black",
           "width": 1
          },
          "opacity": 0.8,
          "size": 8
         },
         "mode": "markers+lines",
         "name": "Iter 0",
         "type": "scatter3d",
         "x": {
          "bdata": "uDKXCuAcyj8=",
          "dtype": "f8"
         },
         "y": {
          "bdata": "VVVVVVVV5T8=",
          "dtype": "f8"
         },
         "z": [
          0
         ]
        },
        {
         "hovertemplate": "<b>Iteration 1</b><br>Cost: %{x:.3f}<br>Performance: %{y:.3f}<br><extra></extra>",
         "line": {
          "color": "#3e4989",
          "width": 3
         },
         "marker": {
          "color": "#3e4989",
          "line": {
           "color": "black",
           "width": 1
          },
          "opacity": 0.8,
          "size": 8
         },
         "mode": "markers+lines",
         "name": "Iter 1",
         "type": "scatter3d",
         "x": {
          "bdata": "doBxunYz0j8=",
          "dtype": "f8"
         },
         "y": {
          "bdata": "VVVVVVVV5T8=",
          "dtype": "f8"
         },
         "z": [
          1
         ]
        },
        {
         "hovertemplate": "<b>Iteration 2</b><br>Cost: %{x:.3f}<br>Performance: %{y:.3f}<br><extra></extra>",
         "line": {
          "color": "#26828e",
          "width": 3
         },
         "marker": {
          "color": "#26828e",
          "line": {
           "color": "black",
           "width": 1
          },
          "opacity": 0.8,
          "size": 8
         },
         "mode": "markers+lines",
         "name": "Iter 2",
         "type": "scatter3d",
         "x": {
          "bdata": "doBxunYz0j8=",
          "dtype": "f8"
         },
         "y": {
          "bdata": "VVVVVVVV5T8=",
          "dtype": "f8"
         },
         "z": [
          2
         ]
        },
        {
         "hovertemplate": "<b>Iteration 3</b><br>Cost: %{x:.3f}<br>Performance: %{y:.3f}<br><extra></extra>",
         "line": {
          "color": "#35b779",
          "width": 3
         },
         "marker": {
          "color": "#35b779",
          "line": {
           "color": "black",
           "width": 1
          },
          "opacity": 0.8,
          "size": 8
         },
         "mode": "markers+lines",
         "name": "Iter 3",
         "type": "scatter3d",
         "x": {
          "bdata": "doBxunYz0j+4nIUc3wfJPw==",
          "dtype": "f8"
         },
         "y": {
          "bdata": "VVVVVVVV5T9VVVVVVVXVPw==",
          "dtype": "f8"
         },
         "z": [
          3,
          3
         ]
        },
        {
         "hovertemplate": "Cost: %{x:.3f}<br>Performance: %{y:.3f}<br>Iteration: %{z}<br><extra></extra>",
         "marker": {
          "color": "lightgray",
          "opacity": 0.2,
          "size": 3
         },
         "mode": "markers",
         "name": "All Evaluations",
         "showlegend": false,
         "type": "scatter3d",
         "x": [
          0.20400620000000003,
          0.20400620000000003,
          0.2843911,
          0.20400620000000003,
          0.2843911,
          0.11171690000000001,
          0.20400620000000003,
          0.2843911,
          0.11171690000000001,
          0.19555272
         ],
         "y": [
          0.6666666666666666,
          0.6666666666666666,
          0.6666666666666666,
          0.6666666666666666,
          0.6666666666666666,
          1,
          0.6666666666666666,
          0.6666666666666666,
          1,
          0.3333333333333333
         ],
         "z": [
          0,
          1,
          1,
          2,
          2,
          2,
          3,
          3,
          3,
          3
         ]
        }
       ],
       "layout": {
        "height": 700,
        "margin": {
         "b": 0,
         "l": 0,
         "r": 0,
         "t": 50
        },
        "scene": {
         "camera": {
          "eye": {
           "x": 1.5,
           "y": 1.5,
           "z": 1.5
          }
         },
         "xaxis": {
          "title": {
           "text": "Cost"
          }
         },
         "yaxis": {
          "title": {
           "text": "Performance"
          }
         },
         "zaxis": {
          "title": {
           "text": "Iteration"
          }
         }
        },
        "template": {
         "data": {
          "bar": [
           {
            "error_x": {
             "color": "#2a3f5f"
            },
            "error_y": {
             "color": "#2a3f5f"
            },
            "marker": {
             "line": {
              "color": "#E5ECF6",
              "width": 0.5
             },
             "pattern": {
              "fillmode": "overlay",
              "size": 10,
              "solidity": 0.2
             }
            },
            "type": "bar"
           }
          ],
          "barpolar": [
           {
            "marker": {
             "line": {
              "color": "#E5ECF6",
              "width": 0.5
             },
             "pattern": {
              "fillmode": "overlay",
              "size": 10,
              "solidity": 0.2
             }
            },
            "type": "barpolar"
           }
          ],
          "carpet": [
           {
            "aaxis": {
             "endlinecolor": "#2a3f5f",
             "gridcolor": "white",
             "linecolor": "white",
             "minorgridcolor": "white",
             "startlinecolor": "#2a3f5f"
            },
            "baxis": {
             "endlinecolor": "#2a3f5f",
             "gridcolor": "white",
             "linecolor": "white",
             "minorgridcolor": "white",
             "startlinecolor": "#2a3f5f"
            },
            "type": "carpet"
           }
          ],
          "choropleth": [
           {
            "colorbar": {
             "outlinewidth": 0,
             "ticks": ""
            },
            "type": "choropleth"
           }
          ],
          "contour": [
           {
            "colorbar": {
             "outlinewidth": 0,
             "ticks": ""
            },
            "colorscale": [
             [
              0,
              "#0d0887"
             ],
             [
              0.1111111111111111,
              "#46039f"
             ],
             [
              0.2222222222222222,
              "#7201a8"
             ],
             [
              0.3333333333333333,
              "#9c179e"
             ],
             [
              0.4444444444444444,
              "#bd3786"
             ],
             [
              0.5555555555555556,
              "#d8576b"
             ],
             [
              0.6666666666666666,
              "#ed7953"
             ],
             [
              0.7777777777777778,
              "#fb9f3a"
             ],
             [
              0.8888888888888888,
              "#fdca26"
             ],
             [
              1,
              "#f0f921"
             ]
            ],
            "type": "contour"
           }
          ],
          "contourcarpet": [
           {
            "colorbar": {
             "outlinewidth": 0,
             "ticks": ""
            },
            "type": "contourcarpet"
           }
          ],
          "heatmap": [
           {
            "colorbar": {
             "outlinewidth": 0,
             "ticks": ""
            },
            "colorscale": [
             [
              0,
              "#0d0887"
             ],
             [
              0.1111111111111111,
              "#46039f"
             ],
             [
              0.2222222222222222,
              "#7201a8"
             ],
             [
              0.3333333333333333,
              "#9c179e"
             ],
             [
              0.4444444444444444,
              "#bd3786"
             ],
             [
              0.5555555555555556,
              "#d8576b"
             ],
             [
              0.6666666666666666,
              "#ed7953"
             ],
             [
              0.7777777777777778,
              "#fb9f3a"
             ],
             [
              0.8888888888888888,
              "#fdca26"
             ],
             [
              1,
              "#f0f921"
             ]
            ],
            "type": "heatmap"
           }
          ],
          "histogram": [
           {
            "marker": {
             "pattern": {
              "fillmode": "overlay",
              "size": 10,
              "solidity": 0.2
             }
            },
            "type": "histogram"
           }
          ],
          "histogram2d": [
           {
            "colorbar": {
             "outlinewidth": 0,
             "ticks": ""
            },
            "colorscale": [
             [
              0,
              "#0d0887"
             ],
             [
              0.1111111111111111,
              "#46039f"
             ],
             [
              0.2222222222222222,
              "#7201a8"
             ],
             [
              0.3333333333333333,
              "#9c179e"
             ],
             [
              0.4444444444444444,
              "#bd3786"
             ],
             [
              0.5555555555555556,
              "#d8576b"
             ],
             [
              0.6666666666666666,
              "#ed7953"
             ],
             [
              0.7777777777777778,
              "#fb9f3a"
             ],
             [
              0.8888888888888888,
              "#fdca26"
             ],
             [
              1,
              "#f0f921"
             ]
            ],
            "type": "histogram2d"
           }
          ],
          "histogram2dcontour": [
           {
            "colorbar": {
             "outlinewidth": 0,
             "ticks": ""
            },
            "colorscale": [
             [
              0,
              "#0d0887"
             ],
             [
              0.1111111111111111,
              "#46039f"
             ],
             [
              0.2222222222222222,
              "#7201a8"
             ],
             [
              0.3333333333333333,
              "#9c179e"
             ],
             [
              0.4444444444444444,
              "#bd3786"
             ],
             [
              0.5555555555555556,
              "#d8576b"
             ],
             [
              0.6666666666666666,
              "#ed7953"
             ],
             [
              0.7777777777777778,
              "#fb9f3a"
             ],
             [
              0.8888888888888888,
              "#fdca26"
             ],
             [
              1,
              "#f0f921"
             ]
            ],
            "type": "histogram2dcontour"
           }
          ],
          "mesh3d": [
           {
            "colorbar": {
             "outlinewidth": 0,
             "ticks": ""
            },
            "type": "mesh3d"
           }
          ],
          "parcoords": [
           {
            "line": {
             "colorbar": {
              "outlinewidth": 0,
              "ticks": ""
             }
            },
            "type": "parcoords"
           }
          ],
          "pie": [
           {
            "automargin": true,
            "type": "pie"
           }
          ],
          "scatter": [
           {
            "fillpattern": {
             "fillmode": "overlay",
             "size": 10,
             "solidity": 0.2
            },
            "type": "scatter"
           }
          ],
          "scatter3d": [
           {
            "line": {
             "colorbar": {
              "outlinewidth": 0,
              "ticks": ""
             }
            },
            "marker": {
             "colorbar": {
              "outlinewidth": 0,
              "ticks": ""
             }
            },
            "type": "scatter3d"
           }
          ],
          "scattercarpet": [
           {
            "marker": {
             "colorbar": {
              "outlinewidth": 0,
              "ticks": ""
             }
            },
            "type": "scattercarpet"
           }
          ],
          "scattergeo": [
           {
            "marker": {
             "colorbar": {
              "outlinewidth": 0,
              "ticks": ""
             }
            },
            "type": "scattergeo"
           }
          ],
          "scattergl": [
           {
            "marker": {
             "colorbar": {
              "outlinewidth": 0,
              "ticks": ""
             }
            },
            "type": "scattergl"
           }
          ],
          "scattermap": [
           {
            "marker": {
             "colorbar": {
              "outlinewidth": 0,
              "ticks": ""
             }
            },
            "type": "scattermap"
           }
          ],
          "scattermapbox": [
           {
            "marker": {
             "colorbar": {
              "outlinewidth": 0,
              "ticks": ""
             }
            },
            "type": "scattermapbox"
           }
          ],
          "scatterpolar": [
           {
            "marker": {
             "colorbar": {
              "outlinewidth": 0,
              "ticks": ""
             }
            },
            "type": "scatterpolar"
           }
          ],
          "scatterpolargl": [
           {
            "marker": {
             "colorbar": {
              "outlinewidth": 0,
              "ticks": ""
             }
            },
            "type": "scatterpolargl"
           }
          ],
          "scatterternary": [
           {
            "marker": {
             "colorbar": {
              "outlinewidth": 0,
              "ticks": ""
             }
            },
            "type": "scatterternary"
           }
          ],
          "surface": [
           {
            "colorbar": {
             "outlinewidth": 0,
             "ticks": ""
            },
            "colorscale": [
             [
              0,
              "#0d0887"
             ],
             [
              0.1111111111111111,
              "#46039f"
             ],
             [
              0.2222222222222222,
              "#7201a8"
             ],
             [
              0.3333333333333333,
              "#9c179e"
             ],
             [
              0.4444444444444444,
              "#bd3786"
             ],
             [
              0.5555555555555556,
              "#d8576b"
             ],
             [
              0.6666666666666666,
              "#ed7953"
             ],
             [
              0.7777777777777778,
              "#fb9f3a"
             ],
             [
              0.8888888888888888,
              "#fdca26"
             ],
             [
              1,
              "#f0f921"
             ]
            ],
            "type": "surface"
           }
          ],
          "table": [
           {
            "cells": {
             "fill": {
              "color": "#EBF0F8"
             },
             "line": {
              "color": "white"
             }
            },
            "header": {
             "fill": {
              "color": "#C8D4E3"
             },
             "line": {
              "color": "white"
             }
            },
            "type": "table"
           }
          ]
         },
         "layout": {
          "annotationdefaults": {
           "arrowcolor": "#2a3f5f",
           "arrowhead": 0,
           "arrowwidth": 1
          },
          "autotypenumbers": "strict",
          "coloraxis": {
           "colorbar": {
            "outlinewidth": 0,
            "ticks": ""
           }
          },
          "colorscale": {
           "diverging": [
            [
             0,
             "#8e0152"
            ],
            [
             0.1,
             "#c51b7d"
            ],
            [
             0.2,
             "#de77ae"
            ],
            [
             0.3,
             "#f1b6da"
            ],
            [
             0.4,
             "#fde0ef"
            ],
            [
             0.5,
             "#f7f7f7"
            ],
            [
             0.6,
             "#e6f5d0"
            ],
            [
             0.7,
             "#b8e186"
            ],
            [
             0.8,
             "#7fbc41"
            ],
            [
             0.9,
             "#4d9221"
            ],
            [
             1,
             "#276419"
            ]
           ],
           "sequential": [
            [
             0,
             "#0d0887"
            ],
            [
             0.1111111111111111,
             "#46039f"
            ],
            [
             0.2222222222222222,
             "#7201a8"
            ],
            [
             0.3333333333333333,
             "#9c179e"
            ],
            [
             0.4444444444444444,
             "#bd3786"
            ],
            [
             0.5555555555555556,
             "#d8576b"
            ],
            [
             0.6666666666666666,
             "#ed7953"
            ],
            [
             0.7777777777777778,
             "#fb9f3a"
            ],
            [
             0.8888888888888888,
             "#fdca26"
            ],
            [
             1,
             "#f0f921"
            ]
           ],
           "sequentialminus": [
            [
             0,
             "#0d0887"
            ],
            [
             0.1111111111111111,
             "#46039f"
            ],
            [
             0.2222222222222222,
             "#7201a8"
            ],
            [
             0.3333333333333333,
             "#9c179e"
            ],
            [
             0.4444444444444444,
             "#bd3786"
            ],
            [
             0.5555555555555556,
             "#d8576b"
            ],
            [
             0.6666666666666666,
             "#ed7953"
            ],
            [
             0.7777777777777778,
             "#fb9f3a"
            ],
            [
             0.8888888888888888,
             "#fdca26"
            ],
            [
             1,
             "#f0f921"
            ]
           ]
          },
          "colorway": [
           "#636efa",
           "#EF553B",
           "#00cc96",
           "#ab63fa",
           "#FFA15A",
           "#19d3f3",
           "#FF6692",
           "#B6E880",
           "#FF97FF",
           "#FECB52"
          ],
          "font": {
           "color": "#2a3f5f"
          },
          "geo": {
           "bgcolor": "white",
           "lakecolor": "white",
           "landcolor": "#E5ECF6",
           "showlakes": true,
           "showland": true,
           "subunitcolor": "white"
          },
          "hoverlabel": {
           "align": "left"
          },
          "hovermode": "closest",
          "mapbox": {
           "style": "light"
          },
          "paper_bgcolor": "white",
          "plot_bgcolor": "#E5ECF6",
          "polar": {
           "angularaxis": {
            "gridcolor": "white",
            "linecolor": "white",
            "ticks": ""
           },
           "bgcolor": "#E5ECF6",
           "radialaxis": {
            "gridcolor": "white",
            "linecolor": "white",
            "ticks": ""
           }
          },
          "scene": {
           "xaxis": {
            "backgroundcolor": "#E5ECF6",
            "gridcolor": "white",
            "gridwidth": 2,
            "linecolor": "white",
            "showbackground": true,
            "ticks": "",
            "zerolinecolor": "white"
           },
           "yaxis": {
            "backgroundcolor": "#E5ECF6",
            "gridcolor": "white",
            "gridwidth": 2,
            "linecolor": "white",
            "showbackground": true,
            "ticks": "",
            "zerolinecolor": "white"
           },
           "zaxis": {
            "backgroundcolor": "#E5ECF6",
            "gridcolor": "white",
            "gridwidth": 2,
            "linecolor": "white",
            "showbackground": true,
            "ticks": "",
            "zerolinecolor": "white"
           }
          },
          "shapedefaults": {
           "line": {
            "color": "#2a3f5f"
           }
          },
          "ternary": {
           "aaxis": {
            "gridcolor": "white",
            "linecolor": "white",
            "ticks": ""
           },
           "baxis": {
            "gridcolor": "white",
            "linecolor": "white",
            "ticks": ""
           },
           "bgcolor": "#E5ECF6",
           "caxis": {
            "gridcolor": "white",
            "linecolor": "white",
            "ticks": ""
           }
          },
          "title": {
           "x": 0.05
          },
          "xaxis": {
           "automargin": true,
           "gridcolor": "white",
           "linecolor": "white",
           "ticks": "",
           "title": {
            "standoff": 15
           },
           "zerolinecolor": "white",
           "zerolinewidth": 2
          },
          "yaxis": {
           "automargin": true,
           "gridcolor": "white",
           "linecolor": "white",
           "ticks": "",
           "title": {
            "standoff": 15
           },
           "zerolinecolor": "white",
           "zerolinewidth": 2
          }
         }
        },
        "title": {
         "font": {
          "size": 16
         },
         "text": "🎯 3D Pareto Front Evolution: Cost vs Performance vs Iteration",
         "x": 0.5
        },
        "width": 900
       }
      }
     },
     "metadata": {},
     "output_type": "display_data"
    },
    {
     "name": "stdout",
     "output_type": "stream",
     "text": [
      "\n",
      "📊 3D Plot Statistics:\n",
      "  • Total points plotted: 10\n",
      "  • Iterations shown: 4\n",
      "  • Final Pareto front size: 2 solutions\n"
     ]
    }
   ],
   "source": [
    "# 🎯 Plot Pareto Front Evolution in 3D\n",
    "def compute_pareto_front(performance, cost):\n",
    "    \"\"\"Compute Pareto front from performance and cost arrays.\"\"\"\n",
    "    if len(performance) == 0:\n",
    "        return np.array([]), np.array([])\n",
    "    \n",
    "    # Combine objectives for Pareto calculation\n",
    "    objectives = np.column_stack([performance, -cost])  # Maximize perf, minimize cost\n",
    "    n_points = len(objectives)\n",
    "    is_pareto = np.ones(n_points, dtype=bool)\n",
    "    \n",
    "    for i in range(n_points):\n",
    "        if is_pareto[i]:\n",
    "            # Check if point i is dominated by any other point\n",
    "            dominated = np.all(objectives[i] <= objectives, axis=1) & np.any(objectives[i] < objectives, axis=1)\n",
    "            is_pareto[dominated] = False\n",
    "    \n",
    "    return performance[is_pareto], cost[is_pareto]\n",
    "\n",
    "def plot_3d_pareto_evolution(checkpoints, save_path=None):\n",
    "    \"\"\"Create 3D plot showing Pareto front evolution over iterations.\"\"\"\n",
    "    if not checkpoints:\n",
    "        print(\"❌ No checkpoint data for 3D plot.\")\n",
    "        return None\n",
    "    \n",
    "    fig = go.Figure()\n",
    "    \n",
    "    # Color palette for iterations\n",
    "    colors = px.colors.sequential.Viridis\n",
    "    n_iters = len(checkpoints)\n",
    "    \n",
    "    all_performance = []\n",
    "    all_cost = []\n",
    "    all_iterations = []\n",
    "    pareto_performance = []\n",
    "    pareto_cost = []\n",
    "    pareto_iterations = []\n",
    "    \n",
    "    print(f\"📊 Processing {n_iters} iterations for 3D plot...\")\n",
    "    \n",
    "    for i, cp in enumerate(checkpoints):\n",
    "        iteration = cp['iteration']\n",
    "        performance = cp['performance'] \n",
    "        cost = cp['cost']\n",
    "        \n",
    "        # Store all points\n",
    "        all_performance.extend(performance)\n",
    "        all_cost.extend(cost)\n",
    "        all_iterations.extend([iteration] * len(performance))\n",
    "        \n",
    "        # Compute Pareto front for this iteration\n",
    "        pareto_perf, pareto_cost_vals = compute_pareto_front(performance, cost)\n",
    "        \n",
    "        if len(pareto_perf) > 0:\n",
    "            pareto_performance.extend(pareto_perf)\n",
    "            pareto_cost.extend(pareto_cost_vals)\n",
    "            pareto_iterations.extend([iteration] * len(pareto_perf))\n",
    "            \n",
    "            # Add Pareto front for this iteration\n",
    "            color_idx = int(i / n_iters * (len(colors) - 1))\n",
    "            \n",
    "            fig.add_trace(go.Scatter3d(\n",
    "                x=pareto_cost_vals,\n",
    "                y=pareto_perf,\n",
    "                z=[iteration] * len(pareto_perf),\n",
    "                mode='markers+lines',\n",
    "                marker=dict(\n",
    "                    size=8,\n",
    "                    color=colors[color_idx],\n",
    "                    opacity=0.8,\n",
    "                    line=dict(width=1, color='black')\n",
    "                ),\n",
    "                line=dict(color=colors[color_idx], width=3),\n",
    "                name=f'Iter {iteration}',\n",
    "                hovertemplate=f'<b>Iteration {iteration}</b><br>' +\n",
    "                             'Cost: %{x:.3f}<br>' +\n",
    "                             'Performance: %{y:.3f}<br>' +\n",
    "                             '<extra></extra>'\n",
    "            ))\n",
    "    \n",
    "    # Add all evaluated points as semi-transparent background\n",
    "    fig.add_trace(go.Scatter3d(\n",
    "        x=all_cost,\n",
    "        y=all_performance,\n",
    "        z=all_iterations,\n",
    "        mode='markers',\n",
    "        marker=dict(\n",
    "            size=3,\n",
    "            color='lightgray',\n",
    "            opacity=0.2\n",
    "        ),\n",
    "        name='All Evaluations',\n",
    "        showlegend=False,\n",
    "        hovertemplate='Cost: %{x:.3f}<br>' +\n",
    "                     'Performance: %{y:.3f}<br>' +\n",
    "                     'Iteration: %{z}<br>' +\n",
    "                     '<extra></extra>'\n",
    "    ))\n",
    "    \n",
    "    # Update layout\n",
    "    fig.update_layout(\n",
    "        title={\n",
    "            'text': '🎯 3D Pareto Front Evolution: Cost vs Performance vs Iteration',\n",
    "            'x': 0.5,\n",
    "            'font': {'size': 16}\n",
    "        },\n",
    "        scene=dict(\n",
    "            xaxis_title='Cost',\n",
    "            yaxis_title='Performance',\n",
    "            zaxis_title='Iteration',\n",
    "            camera=dict(\n",
    "                eye=dict(x=1.5, y=1.5, z=1.5)\n",
    "            )\n",
    "        ),\n",
    "        width=900,\n",
    "        height=700,\n",
    "        margin=dict(l=0, r=0, b=0, t=50)\n",
    "    )\n",
    "    \n",
    "    if save_path:\n",
    "        fig.write_html(save_path)\n",
    "        print(f\"💾 3D Pareto plot saved to: {save_path}\")\n",
    "    \n",
    "    fig.show()\n",
    "    return fig\n",
    "\n",
    "# Create 3D Pareto evolution plot\n",
    "if checkpoints:\n",
    "    print(\"🎯 Creating 3D Pareto front evolution plot...\")\n",
    "    pareto_3d_fig = plot_3d_pareto_evolution(checkpoints)\n",
    "    \n",
    "    # Summary statistics\n",
    "    print(f\"\\n📊 3D Plot Statistics:\")\n",
    "    total_evaluations = sum(cp['n_evaluations'] for cp in checkpoints)\n",
    "    print(f\"  • Total points plotted: {total_evaluations}\")\n",
    "    print(f\"  • Iterations shown: {len(checkpoints)}\")\n",
    "    \n",
    "    # Calculate final Pareto front size\n",
    "    final_cp = checkpoints[-1]\n",
    "    final_pareto_perf, final_pareto_cost = compute_pareto_front(\n",
    "        final_cp['performance'], final_cp['cost']\n",
    "    )\n",
    "    print(f\"  • Final Pareto front size: {len(final_pareto_perf)} solutions\")\n",
    "else:\n",
    "    print(\"❌ Cannot create 3D plot - no checkpoint data available.\")"
   ]
  },
  {
   "cell_type": "code",
   "execution_count": 33,
   "id": "0e78b049",
   "metadata": {},
   "outputs": [
    {
     "name": "stdout",
     "output_type": "stream",
     "text": [
      "💾 Starting visualization export...\n",
      "📁 Created visualization folder: /teamspace/studios/this_studio/LLM Multi-Agent Optimization Framework/outputs/jul_29_15_21_botorch_multi_objective_llm_gaia_smolagents/visualizations\n",
      "💾 Saving all visualizations...\n",
      "💾 Evolution plot saved to: /teamspace/studios/this_studio/LLM Multi-Agent Optimization Framework/outputs/jul_29_15_21_botorch_multi_objective_llm_gaia_smolagents/visualizations/evolution_plot.png\n"
     ]
    },
    {
     "data": {
      "image/png": "[encoded data removed]",
      "text/plain": [
       "<Figure size 1400x1000 with 2 Axes>"
      ]
     },
     "metadata": {},
     "output_type": "display_data"
    },
    {
     "name": "stdout",
     "output_type": "stream",
     "text": [
      "📊 Processing 4 iterations for 3D plot...\n",
      "💾 3D Pareto plot saved to: /teamspace/studios/this_studio/LLM Multi-Agent Optimization Framework/outputs/jul_29_15_21_botorch_multi_objective_llm_gaia_smolagents/visualizations/pareto_3d_evolution.html\n"
     ]
    },
    {
     "data": {
      "application/vnd.plotly.v1+json": {
       "config": {
        "plotlyServerURL": "https://plot.ly"
       },
       "data": [
        {
         "hovertemplate": "<b>Iteration 0</b><br>Cost: %{x:.3f}<br>Performance: %{y:.3f}<br><extra></extra>",
         "line": {
          "color": "#440154",
          "width": 3
         },
         "marker": {
          "color": "#440154",
          "line": {
           "color": "black",
           "width": 1
          },
          "opacity": 0.8,
          "size": 8
         },
         "mode": "markers+lines",
         "name": "Iter 0",
         "type": "scatter3d",
         "x": {
          "bdata": "uDKXCuAcyj8=",
          "dtype": "f8"
         },
         "y": {
          "bdata": "VVVVVVVV5T8=",
          "dtype": "f8"
         },
         "z": [
          0
         ]
        },
        {
         "hovertemplate": "<b>Iteration 1</b><br>Cost: %{x:.3f}<br>Performance: %{y:.3f}<br><extra></extra>",
         "line": {
          "color": "#3e4989",
          "width": 3
         },
         "marker": {
          "color": "#3e4989",
          "line": {
           "color": "black",
           "width": 1
          },
          "opacity": 0.8,
          "size": 8
         },
         "mode": "markers+lines",
         "name": "Iter 1",
         "type": "scatter3d",
         "x": {
          "bdata": "doBxunYz0j8=",
          "dtype": "f8"
         },
         "y": {
          "bdata": "VVVVVVVV5T8=",
          "dtype": "f8"
         },
         "z": [
          1
         ]
        },
        {
         "hovertemplate": "<b>Iteration 2</b><br>Cost: %{x:.3f}<br>Performance: %{y:.3f}<br><extra></extra>",
         "line": {
          "color": "#26828e",
          "width": 3
         },
         "marker": {
          "color": "#26828e",
          "line": {
           "color": "black",
           "width": 1
          },
          "opacity": 0.8,
          "size": 8
         },
         "mode": "markers+lines",
         "name": "Iter 2",
         "type": "scatter3d",
         "x": {
          "bdata": "doBxunYz0j8=",
          "dtype": "f8"
         },
         "y": {
          "bdata": "VVVVVVVV5T8=",
          "dtype": "f8"
         },
         "z": [
          2
         ]
        },
        {
         "hovertemplate": "<b>Iteration 3</b><br>Cost: %{x:.3f}<br>Performance: %{y:.3f}<br><extra></extra>",
         "line": {
          "color": "#35b779",
          "width": 3
         },
         "marker": {
          "color": "#35b779",
          "line": {
           "color": "black",
           "width": 1
          },
          "opacity": 0.8,
          "size": 8
         },
         "mode": "markers+lines",
         "name": "Iter 3",
         "type": "scatter3d",
         "x": {
          "bdata": "doBxunYz0j+4nIUc3wfJPw==",
          "dtype": "f8"
         },
         "y": {
          "bdata": "VVVVVVVV5T9VVVVVVVXVPw==",
          "dtype": "f8"
         },
         "z": [
          3,
          3
         ]
        },
        {
         "hovertemplate": "Cost: %{x:.3f}<br>Performance: %{y:.3f}<br>Iteration: %{z}<br><extra></extra>",
         "marker": {
          "color": "lightgray",
          "opacity": 0.2,
          "size": 3
         },
         "mode": "markers",
         "name": "All Evaluations",
         "showlegend": false,
         "type": "scatter3d",
         "x": [
          0.20400620000000003,
          0.20400620000000003,
          0.2843911,
          0.20400620000000003,
          0.2843911,
          0.11171690000000001,
          0.20400620000000003,
          0.2843911,
          0.11171690000000001,
          0.19555272
         ],
         "y": [
          0.6666666666666666,
          0.6666666666666666,
          0.6666666666666666,
          0.6666666666666666,
          0.6666666666666666,
          1,
          0.6666666666666666,
          0.6666666666666666,
          1,
          0.3333333333333333
         ],
         "z": [
          0,
          1,
          1,
          2,
          2,
          2,
          3,
          3,
          3,
          3
         ]
        }
       ],
       "layout": {
        "height": 700,
        "margin": {
         "b": 0,
         "l": 0,
         "r": 0,
         "t": 50
        },
        "scene": {
         "camera": {
          "eye": {
           "x": 1.5,
           "y": 1.5,
           "z": 1.5
          }
         },
         "xaxis": {
          "title": {
           "text": "Cost"
          }
         },
         "yaxis": {
          "title": {
           "text": "Performance"
          }
         },
         "zaxis": {
          "title": {
           "text": "Iteration"
          }
         }
        },
        "template": {
         "data": {
          "bar": [
           {
            "error_x": {
             "color": "#2a3f5f"
            },
            "error_y": {
             "color": "#2a3f5f"
            },
            "marker": {
             "line": {
              "color": "#E5ECF6",
              "width": 0.5
             },
             "pattern": {
              "fillmode": "overlay",
              "size": 10,
              "solidity": 0.2
             }
            },
            "type": "bar"
           }
          ],
          "barpolar": [
           {
            "marker": {
             "line": {
              "color": "#E5ECF6",
              "width": 0.5
             },
             "pattern": {
              "fillmode": "overlay",
              "size": 10,
              "solidity": 0.2
             }
            },
            "type": "barpolar"
           }
          ],
          "carpet": [
           {
            "aaxis": {
             "endlinecolor": "#2a3f5f",
             "gridcolor": "white",
             "linecolor": "white",
             "minorgridcolor": "white",
             "startlinecolor": "#2a3f5f"
            },
            "baxis": {
             "endlinecolor": "#2a3f5f",
             "gridcolor": "white",
             "linecolor": "white",
             "minorgridcolor": "white",
             "startlinecolor": "#2a3f5f"
            },
            "type": "carpet"
           }
          ],
          "choropleth": [
           {
            "colorbar": {
             "outlinewidth": 0,
             "ticks": ""
            },
            "type": "choropleth"
           }
          ],
          "contour": [
           {
            "colorbar": {
             "outlinewidth": 0,
             "ticks": ""
            },
            "colorscale": [
             [
              0,
              "#0d0887"
             ],
             [
              0.1111111111111111,
              "#46039f"
             ],
             [
              0.2222222222222222,
              "#7201a8"
             ],
             [
              0.3333333333333333,
              "#9c179e"
             ],
             [
              0.4444444444444444,
              "#bd3786"
             ],
             [
              0.5555555555555556,
              "#d8576b"
             ],
             [
              0.6666666666666666,
              "#ed7953"
             ],
             [
              0.7777777777777778,
              "#fb9f3a"
             ],
             [
              0.8888888888888888,
              "#fdca26"
             ],
             [
              1,
              "#f0f921"
             ]
            ],
            "type": "contour"
           }
          ],
          "contourcarpet": [
           {
            "colorbar": {
             "outlinewidth": 0,
             "ticks": ""
            },
            "type": "contourcarpet"
           }
          ],
          "heatmap": [
           {
            "colorbar": {
             "outlinewidth": 0,
             "ticks": ""
            },
            "colorscale": [
             [
              0,
              "#0d0887"
             ],
             [
              0.1111111111111111,
              "#46039f"
             ],
             [
              0.2222222222222222,
              "#7201a8"
             ],
             [
              0.3333333333333333,
              "#9c179e"
             ],
             [
              0.4444444444444444,
              "#bd3786"
             ],
             [
              0.5555555555555556,
              "#d8576b"
             ],
             [
              0.6666666666666666,
              "#ed7953"
             ],
             [
              0.7777777777777778,
              "#fb9f3a"
             ],
             [
              0.8888888888888888,
              "#fdca26"
             ],
             [
              1,
              "#f0f921"
             ]
            ],
            "type": "heatmap"
           }
          ],
          "histogram": [
           {
            "marker": {
             "pattern": {
              "fillmode": "overlay",
              "size": 10,
              "solidity": 0.2
             }
            },
            "type": "histogram"
           }
          ],
          "histogram2d": [
           {
            "colorbar": {
             "outlinewidth": 0,
             "ticks": ""
            },
            "colorscale": [
             [
              0,
              "#0d0887"
             ],
             [
              0.1111111111111111,
              "#46039f"
             ],
             [
              0.2222222222222222,
              "#7201a8"
             ],
             [
              0.3333333333333333,
              "#9c179e"
             ],
             [
              0.4444444444444444,
              "#bd3786"
             ],
             [
              0.5555555555555556,
              "#d8576b"
             ],
             [
              0.6666666666666666,
              "#ed7953"
             ],
             [
              0.7777777777777778,
              "#fb9f3a"
             ],
             [
              0.8888888888888888,
              "#fdca26"
             ],
             [
              1,
              "#f0f921"
             ]
            ],
            "type": "histogram2d"
           }
          ],
          "histogram2dcontour": [
           {
            "colorbar": {
             "outlinewidth": 0,
             "ticks": ""
            },
            "colorscale": [
             [
              0,
              "#0d0887"
             ],
             [
              0.1111111111111111,
              "#46039f"
             ],
             [
              0.2222222222222222,
              "#7201a8"
             ],
             [
              0.3333333333333333,
              "#9c179e"
             ],
             [
              0.4444444444444444,
              "#bd3786"
             ],
             [
              0.5555555555555556,
              "#d8576b"
             ],
             [
              0.6666666666666666,
              "#ed7953"
             ],
             [
              0.7777777777777778,
              "#fb9f3a"
             ],
             [
              0.8888888888888888,
              "#fdca26"
             ],
             [
              1,
              "#f0f921"
             ]
            ],
            "type": "histogram2dcontour"
           }
          ],
          "mesh3d": [
           {
            "colorbar": {
             "outlinewidth": 0,
             "ticks": ""
            },
            "type": "mesh3d"
           }
          ],
          "parcoords": [
           {
            "line": {
             "colorbar": {
              "outlinewidth": 0,
              "ticks": ""
             }
            },
            "type": "parcoords"
           }
          ],
          "pie": [
           {
            "automargin": true,
            "type": "pie"
           }
          ],
          "scatter": [
           {
            "fillpattern": {
             "fillmode": "overlay",
             "size": 10,
             "solidity": 0.2
            },
            "type": "scatter"
           }
          ],
          "scatter3d": [
           {
            "line": {
             "colorbar": {
              "outlinewidth": 0,
              "ticks": ""
             }
            },
            "marker": {
             "colorbar": {
              "outlinewidth": 0,
              "ticks": ""
             }
            },
            "type": "scatter3d"
           }
          ],
          "scattercarpet": [
           {
            "marker": {
             "colorbar": {
              "outlinewidth": 0,
              "ticks": ""
             }
            },
            "type": "scattercarpet"
           }
          ],
          "scattergeo": [
           {
            "marker": {
             "colorbar": {
              "outlinewidth": 0,
              "ticks": ""
             }
            },
            "type": "scattergeo"
           }
          ],
          "scattergl": [
           {
            "marker": {
             "colorbar": {
              "outlinewidth": 0,
              "ticks": ""
             }
            },
            "type": "scattergl"
           }
          ],
          "scattermap": [
           {
            "marker": {
             "colorbar": {
              "outlinewidth": 0,
              "ticks": ""
             }
            },
            "type": "scattermap"
           }
          ],
          "scattermapbox": [
           {
            "marker": {
             "colorbar": {
              "outlinewidth": 0,
              "ticks": ""
             }
            },
            "type": "scattermapbox"
           }
          ],
          "scatterpolar": [
           {
            "marker": {
             "colorbar": {
              "outlinewidth": 0,
              "ticks": ""
             }
            },
            "type": "scatterpolar"
           }
          ],
          "scatterpolargl": [
           {
            "marker": {
             "colorbar": {
              "outlinewidth": 0,
              "ticks": ""
             }
            },
            "type": "scatterpolargl"
           }
          ],
          "scatterternary": [
           {
            "marker": {
             "colorbar": {
              "outlinewidth": 0,
              "ticks": ""
             }
            },
            "type": "scatterternary"
           }
          ],
          "surface": [
           {
            "colorbar": {
             "outlinewidth": 0,
             "ticks": ""
            },
            "colorscale": [
             [
              0,
              "#0d0887"
             ],
             [
              0.1111111111111111,
              "#46039f"
             ],
             [
              0.2222222222222222,
              "#7201a8"
             ],
             [
              0.3333333333333333,
              "#9c179e"
             ],
             [
              0.4444444444444444,
              "#bd3786"
             ],
             [
              0.5555555555555556,
              "#d8576b"
             ],
             [
              0.6666666666666666,
              "#ed7953"
             ],
             [
              0.7777777777777778,
              "#fb9f3a"
             ],
             [
              0.8888888888888888,
              "#fdca26"
             ],
             [
              1,
              "#f0f921"
             ]
            ],
            "type": "surface"
           }
          ],
          "table": [
           {
            "cells": {
             "fill": {
              "color": "#EBF0F8"
             },
             "line": {
              "color": "white"
             }
            },
            "header": {
             "fill": {
              "color": "#C8D4E3"
             },
             "line": {
              "color": "white"
             }
            },
            "type": "table"
           }
          ]
         },
         "layout": {
          "annotationdefaults": {
           "arrowcolor": "#2a3f5f",
           "arrowhead": 0,
           "arrowwidth": 1
          },
          "autotypenumbers": "strict",
          "coloraxis": {
           "colorbar": {
            "outlinewidth": 0,
            "ticks": ""
           }
          },
          "colorscale": {
           "diverging": [
            [
             0,
             "#8e0152"
            ],
            [
             0.1,
             "#c51b7d"
            ],
            [
             0.2,
             "#de77ae"
            ],
            [
             0.3,
             "#f1b6da"
            ],
            [
             0.4,
             "#fde0ef"
            ],
            [
             0.5,
             "#f7f7f7"
            ],
            [
             0.6,
             "#e6f5d0"
            ],
            [
             0.7,
             "#b8e186"
            ],
            [
             0.8,
             "#7fbc41"
            ],
            [
             0.9,
             "#4d9221"
            ],
            [
             1,
             "#276419"
            ]
           ],
           "sequential": [
            [
             0,
             "#0d0887"
            ],
            [
             0.1111111111111111,
             "#46039f"
            ],
            [
             0.2222222222222222,
             "#7201a8"
            ],
            [
             0.3333333333333333,
             "#9c179e"
            ],
            [
             0.4444444444444444,
             "#bd3786"
            ],
            [
             0.5555555555555556,
             "#d8576b"
            ],
            [
             0.6666666666666666,
             "#ed7953"
            ],
            [
             0.7777777777777778,
             "#fb9f3a"
            ],
            [
             0.8888888888888888,
             "#fdca26"
            ],
            [
             1,
             "#f0f921"
            ]
           ],
           "sequentialminus": [
            [
             0,
             "#0d0887"
            ],
            [
             0.1111111111111111,
             "#46039f"
            ],
            [
             0.2222222222222222,
             "#7201a8"
            ],
            [
             0.3333333333333333,
             "#9c179e"
            ],
            [
             0.4444444444444444,
             "#bd3786"
            ],
            [
             0.5555555555555556,
             "#d8576b"
            ],
            [
             0.6666666666666666,
             "#ed7953"
            ],
            [
             0.7777777777777778,
             "#fb9f3a"
            ],
            [
             0.8888888888888888,
             "#fdca26"
            ],
            [
             1,
             "#f0f921"
            ]
           ]
          },
          "colorway": [
           "#636efa",
           "#EF553B",
           "#00cc96",
           "#ab63fa",
           "#FFA15A",
           "#19d3f3",
           "#FF6692",
           "#B6E880",
           "#FF97FF",
           "#FECB52"
          ],
          "font": {
           "color": "#2a3f5f"
          },
          "geo": {
           "bgcolor": "white",
           "lakecolor": "white",
           "landcolor": "#E5ECF6",
           "showlakes": true,
           "showland": true,
           "subunitcolor": "white"
          },
          "hoverlabel": {
           "align": "left"
          },
          "hovermode": "closest",
          "mapbox": {
           "style": "light"
          },
          "paper_bgcolor": "white",
          "plot_bgcolor": "#E5ECF6",
          "polar": {
           "angularaxis": {
            "gridcolor": "white",
            "linecolor": "white",
            "ticks": ""
           },
           "bgcolor": "#E5ECF6",
           "radialaxis": {
            "gridcolor": "white",
            "linecolor": "white",
            "ticks": ""
           }
          },
          "scene": {
           "xaxis": {
            "backgroundcolor": "#E5ECF6",
            "gridcolor": "white",
            "gridwidth": 2,
            "linecolor": "white",
            "showbackground": true,
            "ticks": "",
            "zerolinecolor": "white"
           },
           "yaxis": {
            "backgroundcolor": "#E5ECF6",
            "gridcolor": "white",
            "gridwidth": 2,
            "linecolor": "white",
            "showbackground": true,
            "ticks": "",
            "zerolinecolor": "white"
           },
           "zaxis": {
            "backgroundcolor": "#E5ECF6",
            "gridcolor": "white",
            "gridwidth": 2,
            "linecolor": "white",
            "showbackground": true,
            "ticks": "",
            "zerolinecolor": "white"
           }
          },
          "shapedefaults": {
           "line": {
            "color": "#2a3f5f"
           }
          },
          "ternary": {
           "aaxis": {
            "gridcolor": "white",
            "linecolor": "white",
            "ticks": ""
           },
           "baxis": {
            "gridcolor": "white",
            "linecolor": "white",
            "ticks": ""
           },
           "bgcolor": "#E5ECF6",
           "caxis": {
            "gridcolor": "white",
            "linecolor": "white",
            "ticks": ""
           }
          },
          "title": {
           "x": 0.05
          },
          "xaxis": {
           "automargin": true,
           "gridcolor": "white",
           "linecolor": "white",
           "ticks": "",
           "title": {
            "standoff": 15
           },
           "zerolinecolor": "white",
           "zerolinewidth": 2
          },
          "yaxis": {
           "automargin": true,
           "gridcolor": "white",
           "linecolor": "white",
           "ticks": "",
           "title": {
            "standoff": 15
           },
           "zerolinecolor": "white",
           "zerolinewidth": 2
          }
         }
        },
        "title": {
         "font": {
          "size": 16
         },
         "text": "🎯 3D Pareto Front Evolution: Cost vs Performance vs Iteration",
         "x": 0.5
        },
        "width": 900
       }
      }
     },
     "metadata": {},
     "output_type": "display_data"
    },
    {
     "name": "stdout",
     "output_type": "stream",
     "text": [
      "📄 Analysis summary saved to: /teamspace/studios/this_studio/LLM Multi-Agent Optimization Framework/outputs/jul_29_15_21_botorch_multi_objective_llm_gaia_smolagents/visualizations/analysis_summary.txt\n",
      "\n",
      "✅ Visualization complete! Saved 3 files:\n",
      "  📄 analysis_summary.txt (0.8 KB)\n",
      "  📄 evolution_plot.png (293.2 KB)\n",
      "  📄 pareto_3d_evolution.html (4554.9 KB)\n",
      "\n",
      "📁 All visualizations saved to: /teamspace/studios/this_studio/LLM Multi-Agent Optimization Framework/outputs/jul_29_15_21_botorch_multi_objective_llm_gaia_smolagents/visualizations\n",
      "\n",
      "🎉 SUCCESS! All visualizations saved to:\n",
      "   /teamspace/studios/this_studio/LLM Multi-Agent Optimization Framework/outputs/jul_29_15_21_botorch_multi_objective_llm_gaia_smolagents/visualizations\n",
      "\n",
      "📋 To view the results:\n",
      "   • Open evolution_plot.png for iteration tracking\n",
      "   • Open pareto_3d_evolution.html in a browser for interactive 3D plot\n",
      "   • Read analysis_summary.txt for detailed statistics\n"
     ]
    }
   ],
   "source": [
    "# 💾 Save Visualizations to Output Folder\n",
    "def create_visualization_folder(experiment_folder):\n",
    "    \"\"\"Create visualization folder within experiment output.\"\"\"\n",
    "    if not experiment_folder:\n",
    "        return None\n",
    "    \n",
    "    viz_folder = os.path.join(experiment_folder, \"visualizations\")\n",
    "    os.makedirs(viz_folder, exist_ok=True)\n",
    "    print(f\"📁 Created visualization folder: {viz_folder}\")\n",
    "    return viz_folder\n",
    "\n",
    "def save_all_visualizations(experiment_folder, evolution_data, checkpoints):\n",
    "    \"\"\"Save all generated plots to the visualization folder.\"\"\"\n",
    "    if not experiment_folder:\n",
    "        print(\"❌ No experiment folder specified.\")\n",
    "        return\n",
    "    \n",
    "    viz_folder = create_visualization_folder(experiment_folder)\n",
    "    \n",
    "    if not viz_folder:\n",
    "        print(\"❌ Could not create visualization folder.\")\n",
    "        return\n",
    "    \n",
    "    print(\"💾 Saving all visualizations...\")\n",
    "    \n",
    "    # 1. Save evolution plot\n",
    "    if evolution_data:\n",
    "        evolution_path = os.path.join(viz_folder, \"evolution_plot.png\")\n",
    "        evolution_fig = plot_evolution(evolution_data, save_path=evolution_path)\n",
    "        plt.close(evolution_fig)  # Close to free memory\n",
    "    \n",
    "    # 2. Save 3D Pareto plot \n",
    "    if checkpoints:\n",
    "        pareto_3d_path = os.path.join(viz_folder, \"pareto_3d_evolution.html\")\n",
    "        pareto_3d_fig = plot_3d_pareto_evolution(checkpoints, save_path=pareto_3d_path)\n",
    "    \n",
    "    # 3. Save summary statistics\n",
    "    summary_path = os.path.join(viz_folder, \"analysis_summary.txt\")\n",
    "    with open(summary_path, 'w') as f:\n",
    "        f.write(\"🚀 Multi-Agent LLM Optimization - Post-Experiment Analysis Summary\\n\")\n",
    "        f.write(\"=\"*70 + \"\\n\\n\")\n",
    "        \n",
    "        if evolution_data:\n",
    "            f.write(\"📈 EVOLUTION STATISTICS:\\n\")\n",
    "            f.write(f\"  • Total iterations: {len(evolution_data['iterations'])}\\n\")\n",
    "            f.write(f\"  • Initial best performance: {evolution_data['best_performance_cumulative'][0]:.3f}\\n\")\n",
    "            f.write(f\"  • Final best performance: {evolution_data['best_performance_cumulative'][-1]:.3f}\\n\")\n",
    "            f.write(f\"  • Performance improvement: {evolution_data['best_performance_cumulative'][-1] - evolution_data['best_performance_cumulative'][0]:.3f}\\n\")\n",
    "            f.write(f\"  • Initial best cost: {evolution_data['best_cost_cumulative'][0]:.3f}\\n\")\n",
    "            f.write(f\"  • Final best cost: {evolution_data['best_cost_cumulative'][-1]:.3f}\\n\")\n",
    "            f.write(f\"  • Cost improvement: {evolution_data['best_cost_cumulative'][0] - evolution_data['best_cost_cumulative'][-1]:.3f}\\n\\n\")\n",
    "        \n",
    "        if checkpoints:\n",
    "            f.write(\"📊 CHECKPOINT STATISTICS:\\n\")\n",
    "            total_evals = checkpoints[-1]['n_evaluations']\n",
    "            f.write(f\"  • Total evaluations: {total_evals}\\n\")\n",
    "            f.write(f\"  • Iterations completed: {len(checkpoints)}\\n\")\n",
    "            f.write(f\"  • Average evaluations per iteration: {total_evals/len(checkpoints):.1f}\\n\")\n",
    "            \n",
    "            # Final Pareto front\n",
    "            final_cp = checkpoints[-1]\n",
    "            final_pareto_perf, final_pareto_cost = compute_pareto_front(\n",
    "                final_cp['performance'], final_cp['cost']\n",
    "            )\n",
    "            f.write(f\"  • Final Pareto front size: {len(final_pareto_perf)} solutions\\n\")\n",
    "            f.write(f\"  • Pareto efficiency: {len(final_pareto_perf)/total_evals*100:.1f}%\\n\\n\")\n",
    "        \n",
    "        f.write(\"📁 GENERATED FILES:\\n\")\n",
    "        f.write(\"  • evolution_plot.png - Performance and cost evolution over iterations\\n\")\n",
    "        f.write(\"  • pareto_3d_evolution.html - Interactive 3D Pareto front evolution\\n\")\n",
    "        f.write(\"  • analysis_summary.txt - This summary file\\n\")\n",
    "        \n",
    "        f.write(f\"\\n📅 Analysis generated on: {datetime.now().strftime('%Y-%m-%d %H:%M:%S')}\\n\")\n",
    "    \n",
    "    print(f\"📄 Analysis summary saved to: {summary_path}\")\n",
    "    \n",
    "    # 4. List all saved files\n",
    "    saved_files = [f for f in os.listdir(viz_folder) if os.path.isfile(os.path.join(viz_folder, f))]\n",
    "    \n",
    "    print(f\"\\n✅ Visualization complete! Saved {len(saved_files)} files:\")\n",
    "    for file in sorted(saved_files):\n",
    "        file_path = os.path.join(viz_folder, file)\n",
    "        file_size = os.path.getsize(file_path) / 1024  # KB\n",
    "        print(f\"  📄 {file} ({file_size:.1f} KB)\")\n",
    "    \n",
    "    print(f\"\\n📁 All visualizations saved to: {viz_folder}\")\n",
    "    return viz_folder\n",
    "\n",
    "# Save all visualizations\n",
    "if latest_experiment and (evolution_data or checkpoints):\n",
    "    print(\"💾 Starting visualization export...\")\n",
    "    saved_viz_folder = save_all_visualizations(latest_experiment, evolution_data, checkpoints)\n",
    "    \n",
    "    if saved_viz_folder:\n",
    "        print(f\"\\n🎉 SUCCESS! All visualizations saved to:\")\n",
    "        print(f\"   {saved_viz_folder}\")\n",
    "        print(f\"\\n📋 To view the results:\")\n",
    "        print(f\"   • Open evolution_plot.png for iteration tracking\")\n",
    "        print(f\"   • Open pareto_3d_evolution.html in a browser for interactive 3D plot\")\n",
    "        print(f\"   • Read analysis_summary.txt for detailed statistics\")\n",
    "else:\n",
    "    print(\"❌ Cannot save visualizations - no experiment data available.\")"
   ]
  },
  {
   "cell_type": "markdown",
   "id": "07b24627",
   "metadata": {},
   "source": [
    "## 🎉 Analysis Complete!\n",
    "\n",
    "### 📊 **What We've Generated:**\n",
    "\n",
    "1. **📈 Evolution Tracking**: Line plots showing how the best performance and cost evolved over optimization iterations\n",
    "2. **🎯 3D Pareto Visualization**: Interactive 3D plot showing how the Pareto front evolved across iterations\n",
    "3. **💾 Saved Outputs**: All plots and analysis summaries saved to the experiment's `visualizations/` folder\n",
    "\n",
    "### 🔍 **Key Insights:**\n",
    "\n",
    "- **Performance Improvement**: Track how the optimization algorithm improved solutions over time\n",
    "- **Cost Efficiency**: See how cost-effective solutions were discovered\n",
    "- **Pareto Evolution**: Understand how the trade-off frontier between performance and cost evolved\n",
    "- **Convergence Behavior**: Analyze whether the optimization converged or could benefit from more iterations\n",
    "\n",
    "### 📋 **Next Steps:**\n",
    "\n",
    "1. **Review the 3D Plot**: Open the HTML file in a browser for interactive exploration\n",
    "2. **Analyze Trade-offs**: Use the evolution plots to understand optimization dynamics\n",
    "3. **Parameter Tuning**: If convergence seems poor, consider adjusting optimization parameters\n",
    "4. **Architecture Comparison**: Run multiple experiments with different architectures and compare results\n",
    "\n",
    "### 🔧 **Rerunning Analysis:**\n",
    "\n",
    "To analyze a different experiment, simply:\n",
    "1. Update the `latest_experiment` variable to point to a different folder\n",
    "2. Re-run the notebook cells\n",
    "3. All visualizations will be regenerated and saved\n",
    "\n",
    "---\n",
    "\n",
    "**Happy optimizing! 🚀**"
   ]
  }
 ],
 "metadata": {
  "language_info": {
   "name": "python"
  }
 },
 "nbformat": 4,
 "nbformat_minor": 5
}
